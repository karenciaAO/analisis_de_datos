{
 "cells": [
  {
   "cell_type": "code",
   "execution_count": null,
   "metadata": {},
   "outputs": [],
   "source": [
    "variable=\"datapath\""
   ]
  },
  {
   "cell_type": "markdown",
   "metadata": {},
   "source": [
    "1. funcion para buscar un elemento en una lista\n",
    "2. funcion que sume los numeros positivos de una lista\n",
    "3. funcions que busque una clave de un diccionario\n",
    "4. filtrar numeros impares en una lista"
   ]
  },
  {
   "cell_type": "code",
   "execution_count": 1,
   "metadata": {},
   "outputs": [],
   "source": [
    "lista=[1,2,3,4,5,6,7,8,9,10]\n",
    "def buscar_elemento(lista,elemento):\n",
    "  for i in range(len(lista)):\n",
    "    if lista[i]==elemento:\n",
    "      return i\n",
    "  return print(\"no se encuentra\")"
   ]
  },
  {
   "cell_type": "code",
   "execution_count": 10,
   "metadata": {},
   "outputs": [
    {
     "data": {
      "text/plain": [
       "3"
      ]
     },
     "execution_count": 10,
     "metadata": {},
     "output_type": "execute_result"
    }
   ],
   "source": [
    "buscar_elemento(lista,4)"
   ]
  },
  {
   "cell_type": "code",
   "execution_count": 11,
   "metadata": {},
   "outputs": [],
   "source": [
    "lista=[1,-2,-3,4,-5,6,7,8,9,10]\n",
    "def sumar_positivos(lista):\n",
    "  suma=0\n",
    "  for i in lista:\n",
    "    if i>0:\n",
    "      suma+=i\n",
    "  return suma"
   ]
  },
  {
   "cell_type": "code",
   "execution_count": 13,
   "metadata": {},
   "outputs": [
    {
     "data": {
      "text/plain": [
       "45"
      ]
     },
     "execution_count": 13,
     "metadata": {},
     "output_type": "execute_result"
    }
   ],
   "source": [
    "sumar_positivos(lista)"
   ]
  },
  {
   "cell_type": "code",
   "execution_count": 17,
   "metadata": {},
   "outputs": [
    {
     "data": {
      "text/plain": [
       "True"
      ]
     },
     "execution_count": 17,
     "metadata": {},
     "output_type": "execute_result"
    }
   ],
   "source": [
    "diccionario={'Mexico':24,'Bogota':20,'Santiago':8}\n",
    "def existe_clave(diccionario,clave):\n",
    "    if diccionario.get(clave):\n",
    "        return True\n",
    "    else:\n",
    "        return False\n",
    "\n",
    "existe_clave(diccionario,\"Mexico\")"
   ]
  },
  {
   "cell_type": "code",
   "execution_count": 5,
   "metadata": {},
   "outputs": [],
   "source": [
    "diccionario={'Mexico':24,'Bogota':20,'Santiago':8}\n",
    "def buscar_clave(diccionario,clave):\n",
    "  for i in diccionario:\n",
    "    if i==clave:\n",
    "      return diccionario[i]\n",
    "  return print(\"no se encuentra\")"
   ]
  },
  {
   "cell_type": "code",
   "execution_count": 14,
   "metadata": {},
   "outputs": [
    {
     "data": {
      "text/plain": [
       "20"
      ]
     },
     "execution_count": 14,
     "metadata": {},
     "output_type": "execute_result"
    }
   ],
   "source": [
    "buscar_clave(diccionario,'Bogota')"
   ]
  },
  {
   "cell_type": "code",
   "execution_count": 8,
   "metadata": {},
   "outputs": [],
   "source": [
    "lista=[1,2,3,4,5,6,7,8,9,10]\n",
    "def buscar_impares(lista):\n",
    "  lista_impares=[]\n",
    "  for i in lista:\n",
    "    if i%2!=0:\n",
    "      lista_impares.append(i)\n",
    "  return lista_impares"
   ]
  },
  {
   "cell_type": "code",
   "execution_count": 15,
   "metadata": {},
   "outputs": [
    {
     "data": {
      "text/plain": [
       "[1, -3, -5, 7, 9]"
      ]
     },
     "execution_count": 15,
     "metadata": {},
     "output_type": "execute_result"
    }
   ],
   "source": [
    "buscar_impares(lista)"
   ]
  }
 ],
 "metadata": {
  "kernelspec": {
   "display_name": "Python 3",
   "language": "python",
   "name": "python3"
  },
  "language_info": {
   "codemirror_mode": {
    "name": "ipython",
    "version": 3
   },
   "file_extension": ".py",
   "mimetype": "text/x-python",
   "name": "python",
   "nbconvert_exporter": "python",
   "pygments_lexer": "ipython3",
   "version": "3.12.1"
  }
 },
 "nbformat": 4,
 "nbformat_minor": 2
}
